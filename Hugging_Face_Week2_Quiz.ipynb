{
  "nbformat": 4,
  "nbformat_minor": 0,
  "metadata": {
    "colab": {
      "provenance": [],
      "include_colab_link": true
    },
    "kernelspec": {
      "name": "python3",
      "display_name": "Python 3"
    },
    "language_info": {
      "name": "python"
    },
    "widgets": {
      "application/vnd.jupyter.widget-state+json": {
        "5316a88061b149d3b24ec04fd782ef6a": {
          "model_module": "@jupyter-widgets/controls",
          "model_name": "HBoxModel",
          "model_module_version": "1.5.0",
          "state": {
            "_dom_classes": [],
            "_model_module": "@jupyter-widgets/controls",
            "_model_module_version": "1.5.0",
            "_model_name": "HBoxModel",
            "_view_count": null,
            "_view_module": "@jupyter-widgets/controls",
            "_view_module_version": "1.5.0",
            "_view_name": "HBoxView",
            "box_style": "",
            "children": [
              "IPY_MODEL_24087760c8f44221865b0464624ad5ad",
              "IPY_MODEL_569c40df138844579cfe8f230f17b807",
              "IPY_MODEL_f21dd22be33a468b877dda5bc30463d0"
            ],
            "layout": "IPY_MODEL_a6075197e52b4559962d50cac4e81852"
          }
        },
        "24087760c8f44221865b0464624ad5ad": {
          "model_module": "@jupyter-widgets/controls",
          "model_name": "HTMLModel",
          "model_module_version": "1.5.0",
          "state": {
            "_dom_classes": [],
            "_model_module": "@jupyter-widgets/controls",
            "_model_module_version": "1.5.0",
            "_model_name": "HTMLModel",
            "_view_count": null,
            "_view_module": "@jupyter-widgets/controls",
            "_view_module_version": "1.5.0",
            "_view_name": "HTMLView",
            "description": "",
            "description_tooltip": null,
            "layout": "IPY_MODEL_5a4bce8e6ab6470abe5cdaea0dd45693",
            "placeholder": "​",
            "style": "IPY_MODEL_4d6b3f021c3e4737a462f78ba0a93507",
            "value": "tokenizer_config.json: 100%"
          }
        },
        "569c40df138844579cfe8f230f17b807": {
          "model_module": "@jupyter-widgets/controls",
          "model_name": "FloatProgressModel",
          "model_module_version": "1.5.0",
          "state": {
            "_dom_classes": [],
            "_model_module": "@jupyter-widgets/controls",
            "_model_module_version": "1.5.0",
            "_model_name": "FloatProgressModel",
            "_view_count": null,
            "_view_module": "@jupyter-widgets/controls",
            "_view_module_version": "1.5.0",
            "_view_name": "ProgressView",
            "bar_style": "success",
            "description": "",
            "description_tooltip": null,
            "layout": "IPY_MODEL_cf7b6cd485ca4fb69048777bdcd1e501",
            "max": 48,
            "min": 0,
            "orientation": "horizontal",
            "style": "IPY_MODEL_1a4f26d1086b471b891ef0ef0aa505b4",
            "value": 48
          }
        },
        "f21dd22be33a468b877dda5bc30463d0": {
          "model_module": "@jupyter-widgets/controls",
          "model_name": "HTMLModel",
          "model_module_version": "1.5.0",
          "state": {
            "_dom_classes": [],
            "_model_module": "@jupyter-widgets/controls",
            "_model_module_version": "1.5.0",
            "_model_name": "HTMLModel",
            "_view_count": null,
            "_view_module": "@jupyter-widgets/controls",
            "_view_module_version": "1.5.0",
            "_view_name": "HTMLView",
            "description": "",
            "description_tooltip": null,
            "layout": "IPY_MODEL_e6ebd4e4144c47cb86a85af6f24e5e4f",
            "placeholder": "​",
            "style": "IPY_MODEL_abce5f57ec8b4813ac73b501cf20c998",
            "value": " 48.0/48.0 [00:00&lt;00:00, 828B/s]"
          }
        },
        "a6075197e52b4559962d50cac4e81852": {
          "model_module": "@jupyter-widgets/base",
          "model_name": "LayoutModel",
          "model_module_version": "1.2.0",
          "state": {
            "_model_module": "@jupyter-widgets/base",
            "_model_module_version": "1.2.0",
            "_model_name": "LayoutModel",
            "_view_count": null,
            "_view_module": "@jupyter-widgets/base",
            "_view_module_version": "1.2.0",
            "_view_name": "LayoutView",
            "align_content": null,
            "align_items": null,
            "align_self": null,
            "border": null,
            "bottom": null,
            "display": null,
            "flex": null,
            "flex_flow": null,
            "grid_area": null,
            "grid_auto_columns": null,
            "grid_auto_flow": null,
            "grid_auto_rows": null,
            "grid_column": null,
            "grid_gap": null,
            "grid_row": null,
            "grid_template_areas": null,
            "grid_template_columns": null,
            "grid_template_rows": null,
            "height": null,
            "justify_content": null,
            "justify_items": null,
            "left": null,
            "margin": null,
            "max_height": null,
            "max_width": null,
            "min_height": null,
            "min_width": null,
            "object_fit": null,
            "object_position": null,
            "order": null,
            "overflow": null,
            "overflow_x": null,
            "overflow_y": null,
            "padding": null,
            "right": null,
            "top": null,
            "visibility": null,
            "width": null
          }
        },
        "5a4bce8e6ab6470abe5cdaea0dd45693": {
          "model_module": "@jupyter-widgets/base",
          "model_name": "LayoutModel",
          "model_module_version": "1.2.0",
          "state": {
            "_model_module": "@jupyter-widgets/base",
            "_model_module_version": "1.2.0",
            "_model_name": "LayoutModel",
            "_view_count": null,
            "_view_module": "@jupyter-widgets/base",
            "_view_module_version": "1.2.0",
            "_view_name": "LayoutView",
            "align_content": null,
            "align_items": null,
            "align_self": null,
            "border": null,
            "bottom": null,
            "display": null,
            "flex": null,
            "flex_flow": null,
            "grid_area": null,
            "grid_auto_columns": null,
            "grid_auto_flow": null,
            "grid_auto_rows": null,
            "grid_column": null,
            "grid_gap": null,
            "grid_row": null,
            "grid_template_areas": null,
            "grid_template_columns": null,
            "grid_template_rows": null,
            "height": null,
            "justify_content": null,
            "justify_items": null,
            "left": null,
            "margin": null,
            "max_height": null,
            "max_width": null,
            "min_height": null,
            "min_width": null,
            "object_fit": null,
            "object_position": null,
            "order": null,
            "overflow": null,
            "overflow_x": null,
            "overflow_y": null,
            "padding": null,
            "right": null,
            "top": null,
            "visibility": null,
            "width": null
          }
        },
        "4d6b3f021c3e4737a462f78ba0a93507": {
          "model_module": "@jupyter-widgets/controls",
          "model_name": "DescriptionStyleModel",
          "model_module_version": "1.5.0",
          "state": {
            "_model_module": "@jupyter-widgets/controls",
            "_model_module_version": "1.5.0",
            "_model_name": "DescriptionStyleModel",
            "_view_count": null,
            "_view_module": "@jupyter-widgets/base",
            "_view_module_version": "1.2.0",
            "_view_name": "StyleView",
            "description_width": ""
          }
        },
        "cf7b6cd485ca4fb69048777bdcd1e501": {
          "model_module": "@jupyter-widgets/base",
          "model_name": "LayoutModel",
          "model_module_version": "1.2.0",
          "state": {
            "_model_module": "@jupyter-widgets/base",
            "_model_module_version": "1.2.0",
            "_model_name": "LayoutModel",
            "_view_count": null,
            "_view_module": "@jupyter-widgets/base",
            "_view_module_version": "1.2.0",
            "_view_name": "LayoutView",
            "align_content": null,
            "align_items": null,
            "align_self": null,
            "border": null,
            "bottom": null,
            "display": null,
            "flex": null,
            "flex_flow": null,
            "grid_area": null,
            "grid_auto_columns": null,
            "grid_auto_flow": null,
            "grid_auto_rows": null,
            "grid_column": null,
            "grid_gap": null,
            "grid_row": null,
            "grid_template_areas": null,
            "grid_template_columns": null,
            "grid_template_rows": null,
            "height": null,
            "justify_content": null,
            "justify_items": null,
            "left": null,
            "margin": null,
            "max_height": null,
            "max_width": null,
            "min_height": null,
            "min_width": null,
            "object_fit": null,
            "object_position": null,
            "order": null,
            "overflow": null,
            "overflow_x": null,
            "overflow_y": null,
            "padding": null,
            "right": null,
            "top": null,
            "visibility": null,
            "width": null
          }
        },
        "1a4f26d1086b471b891ef0ef0aa505b4": {
          "model_module": "@jupyter-widgets/controls",
          "model_name": "ProgressStyleModel",
          "model_module_version": "1.5.0",
          "state": {
            "_model_module": "@jupyter-widgets/controls",
            "_model_module_version": "1.5.0",
            "_model_name": "ProgressStyleModel",
            "_view_count": null,
            "_view_module": "@jupyter-widgets/base",
            "_view_module_version": "1.2.0",
            "_view_name": "StyleView",
            "bar_color": null,
            "description_width": ""
          }
        },
        "e6ebd4e4144c47cb86a85af6f24e5e4f": {
          "model_module": "@jupyter-widgets/base",
          "model_name": "LayoutModel",
          "model_module_version": "1.2.0",
          "state": {
            "_model_module": "@jupyter-widgets/base",
            "_model_module_version": "1.2.0",
            "_model_name": "LayoutModel",
            "_view_count": null,
            "_view_module": "@jupyter-widgets/base",
            "_view_module_version": "1.2.0",
            "_view_name": "LayoutView",
            "align_content": null,
            "align_items": null,
            "align_self": null,
            "border": null,
            "bottom": null,
            "display": null,
            "flex": null,
            "flex_flow": null,
            "grid_area": null,
            "grid_auto_columns": null,
            "grid_auto_flow": null,
            "grid_auto_rows": null,
            "grid_column": null,
            "grid_gap": null,
            "grid_row": null,
            "grid_template_areas": null,
            "grid_template_columns": null,
            "grid_template_rows": null,
            "height": null,
            "justify_content": null,
            "justify_items": null,
            "left": null,
            "margin": null,
            "max_height": null,
            "max_width": null,
            "min_height": null,
            "min_width": null,
            "object_fit": null,
            "object_position": null,
            "order": null,
            "overflow": null,
            "overflow_x": null,
            "overflow_y": null,
            "padding": null,
            "right": null,
            "top": null,
            "visibility": null,
            "width": null
          }
        },
        "abce5f57ec8b4813ac73b501cf20c998": {
          "model_module": "@jupyter-widgets/controls",
          "model_name": "DescriptionStyleModel",
          "model_module_version": "1.5.0",
          "state": {
            "_model_module": "@jupyter-widgets/controls",
            "_model_module_version": "1.5.0",
            "_model_name": "DescriptionStyleModel",
            "_view_count": null,
            "_view_module": "@jupyter-widgets/base",
            "_view_module_version": "1.2.0",
            "_view_name": "StyleView",
            "description_width": ""
          }
        },
        "fc97328ef0274a219a4d98e8624bfba8": {
          "model_module": "@jupyter-widgets/controls",
          "model_name": "HBoxModel",
          "model_module_version": "1.5.0",
          "state": {
            "_dom_classes": [],
            "_model_module": "@jupyter-widgets/controls",
            "_model_module_version": "1.5.0",
            "_model_name": "HBoxModel",
            "_view_count": null,
            "_view_module": "@jupyter-widgets/controls",
            "_view_module_version": "1.5.0",
            "_view_name": "HBoxView",
            "box_style": "",
            "children": [
              "IPY_MODEL_1340b8c1a2ae4c1e9c27b30f7031b918",
              "IPY_MODEL_6af697af58a34f06ab24636b4b630236",
              "IPY_MODEL_3524eded30464d739d37d2bd9ca398fb"
            ],
            "layout": "IPY_MODEL_b5e4fa5869424606a66497f2088f7b45"
          }
        },
        "1340b8c1a2ae4c1e9c27b30f7031b918": {
          "model_module": "@jupyter-widgets/controls",
          "model_name": "HTMLModel",
          "model_module_version": "1.5.0",
          "state": {
            "_dom_classes": [],
            "_model_module": "@jupyter-widgets/controls",
            "_model_module_version": "1.5.0",
            "_model_name": "HTMLModel",
            "_view_count": null,
            "_view_module": "@jupyter-widgets/controls",
            "_view_module_version": "1.5.0",
            "_view_name": "HTMLView",
            "description": "",
            "description_tooltip": null,
            "layout": "IPY_MODEL_d5f6932b6d654f068c31948ad69b9c02",
            "placeholder": "​",
            "style": "IPY_MODEL_1a64213a67bb46828dbcfcbcd4e4cce9",
            "value": "vocab.txt: 100%"
          }
        },
        "6af697af58a34f06ab24636b4b630236": {
          "model_module": "@jupyter-widgets/controls",
          "model_name": "FloatProgressModel",
          "model_module_version": "1.5.0",
          "state": {
            "_dom_classes": [],
            "_model_module": "@jupyter-widgets/controls",
            "_model_module_version": "1.5.0",
            "_model_name": "FloatProgressModel",
            "_view_count": null,
            "_view_module": "@jupyter-widgets/controls",
            "_view_module_version": "1.5.0",
            "_view_name": "ProgressView",
            "bar_style": "success",
            "description": "",
            "description_tooltip": null,
            "layout": "IPY_MODEL_ec6dad29c3e444a49f28d3d032ac8fe3",
            "max": 231508,
            "min": 0,
            "orientation": "horizontal",
            "style": "IPY_MODEL_c90c37b06ab243cdb8a2aadec260596f",
            "value": 231508
          }
        },
        "3524eded30464d739d37d2bd9ca398fb": {
          "model_module": "@jupyter-widgets/controls",
          "model_name": "HTMLModel",
          "model_module_version": "1.5.0",
          "state": {
            "_dom_classes": [],
            "_model_module": "@jupyter-widgets/controls",
            "_model_module_version": "1.5.0",
            "_model_name": "HTMLModel",
            "_view_count": null,
            "_view_module": "@jupyter-widgets/controls",
            "_view_module_version": "1.5.0",
            "_view_name": "HTMLView",
            "description": "",
            "description_tooltip": null,
            "layout": "IPY_MODEL_ba7becb9630c44cf9415b3ad052a4e34",
            "placeholder": "​",
            "style": "IPY_MODEL_b5d9870f883047298ac2b8e3f272cc17",
            "value": " 232k/232k [00:00&lt;00:00, 2.20MB/s]"
          }
        },
        "b5e4fa5869424606a66497f2088f7b45": {
          "model_module": "@jupyter-widgets/base",
          "model_name": "LayoutModel",
          "model_module_version": "1.2.0",
          "state": {
            "_model_module": "@jupyter-widgets/base",
            "_model_module_version": "1.2.0",
            "_model_name": "LayoutModel",
            "_view_count": null,
            "_view_module": "@jupyter-widgets/base",
            "_view_module_version": "1.2.0",
            "_view_name": "LayoutView",
            "align_content": null,
            "align_items": null,
            "align_self": null,
            "border": null,
            "bottom": null,
            "display": null,
            "flex": null,
            "flex_flow": null,
            "grid_area": null,
            "grid_auto_columns": null,
            "grid_auto_flow": null,
            "grid_auto_rows": null,
            "grid_column": null,
            "grid_gap": null,
            "grid_row": null,
            "grid_template_areas": null,
            "grid_template_columns": null,
            "grid_template_rows": null,
            "height": null,
            "justify_content": null,
            "justify_items": null,
            "left": null,
            "margin": null,
            "max_height": null,
            "max_width": null,
            "min_height": null,
            "min_width": null,
            "object_fit": null,
            "object_position": null,
            "order": null,
            "overflow": null,
            "overflow_x": null,
            "overflow_y": null,
            "padding": null,
            "right": null,
            "top": null,
            "visibility": null,
            "width": null
          }
        },
        "d5f6932b6d654f068c31948ad69b9c02": {
          "model_module": "@jupyter-widgets/base",
          "model_name": "LayoutModel",
          "model_module_version": "1.2.0",
          "state": {
            "_model_module": "@jupyter-widgets/base",
            "_model_module_version": "1.2.0",
            "_model_name": "LayoutModel",
            "_view_count": null,
            "_view_module": "@jupyter-widgets/base",
            "_view_module_version": "1.2.0",
            "_view_name": "LayoutView",
            "align_content": null,
            "align_items": null,
            "align_self": null,
            "border": null,
            "bottom": null,
            "display": null,
            "flex": null,
            "flex_flow": null,
            "grid_area": null,
            "grid_auto_columns": null,
            "grid_auto_flow": null,
            "grid_auto_rows": null,
            "grid_column": null,
            "grid_gap": null,
            "grid_row": null,
            "grid_template_areas": null,
            "grid_template_columns": null,
            "grid_template_rows": null,
            "height": null,
            "justify_content": null,
            "justify_items": null,
            "left": null,
            "margin": null,
            "max_height": null,
            "max_width": null,
            "min_height": null,
            "min_width": null,
            "object_fit": null,
            "object_position": null,
            "order": null,
            "overflow": null,
            "overflow_x": null,
            "overflow_y": null,
            "padding": null,
            "right": null,
            "top": null,
            "visibility": null,
            "width": null
          }
        },
        "1a64213a67bb46828dbcfcbcd4e4cce9": {
          "model_module": "@jupyter-widgets/controls",
          "model_name": "DescriptionStyleModel",
          "model_module_version": "1.5.0",
          "state": {
            "_model_module": "@jupyter-widgets/controls",
            "_model_module_version": "1.5.0",
            "_model_name": "DescriptionStyleModel",
            "_view_count": null,
            "_view_module": "@jupyter-widgets/base",
            "_view_module_version": "1.2.0",
            "_view_name": "StyleView",
            "description_width": ""
          }
        },
        "ec6dad29c3e444a49f28d3d032ac8fe3": {
          "model_module": "@jupyter-widgets/base",
          "model_name": "LayoutModel",
          "model_module_version": "1.2.0",
          "state": {
            "_model_module": "@jupyter-widgets/base",
            "_model_module_version": "1.2.0",
            "_model_name": "LayoutModel",
            "_view_count": null,
            "_view_module": "@jupyter-widgets/base",
            "_view_module_version": "1.2.0",
            "_view_name": "LayoutView",
            "align_content": null,
            "align_items": null,
            "align_self": null,
            "border": null,
            "bottom": null,
            "display": null,
            "flex": null,
            "flex_flow": null,
            "grid_area": null,
            "grid_auto_columns": null,
            "grid_auto_flow": null,
            "grid_auto_rows": null,
            "grid_column": null,
            "grid_gap": null,
            "grid_row": null,
            "grid_template_areas": null,
            "grid_template_columns": null,
            "grid_template_rows": null,
            "height": null,
            "justify_content": null,
            "justify_items": null,
            "left": null,
            "margin": null,
            "max_height": null,
            "max_width": null,
            "min_height": null,
            "min_width": null,
            "object_fit": null,
            "object_position": null,
            "order": null,
            "overflow": null,
            "overflow_x": null,
            "overflow_y": null,
            "padding": null,
            "right": null,
            "top": null,
            "visibility": null,
            "width": null
          }
        },
        "c90c37b06ab243cdb8a2aadec260596f": {
          "model_module": "@jupyter-widgets/controls",
          "model_name": "ProgressStyleModel",
          "model_module_version": "1.5.0",
          "state": {
            "_model_module": "@jupyter-widgets/controls",
            "_model_module_version": "1.5.0",
            "_model_name": "ProgressStyleModel",
            "_view_count": null,
            "_view_module": "@jupyter-widgets/base",
            "_view_module_version": "1.2.0",
            "_view_name": "StyleView",
            "bar_color": null,
            "description_width": ""
          }
        },
        "ba7becb9630c44cf9415b3ad052a4e34": {
          "model_module": "@jupyter-widgets/base",
          "model_name": "LayoutModel",
          "model_module_version": "1.2.0",
          "state": {
            "_model_module": "@jupyter-widgets/base",
            "_model_module_version": "1.2.0",
            "_model_name": "LayoutModel",
            "_view_count": null,
            "_view_module": "@jupyter-widgets/base",
            "_view_module_version": "1.2.0",
            "_view_name": "LayoutView",
            "align_content": null,
            "align_items": null,
            "align_self": null,
            "border": null,
            "bottom": null,
            "display": null,
            "flex": null,
            "flex_flow": null,
            "grid_area": null,
            "grid_auto_columns": null,
            "grid_auto_flow": null,
            "grid_auto_rows": null,
            "grid_column": null,
            "grid_gap": null,
            "grid_row": null,
            "grid_template_areas": null,
            "grid_template_columns": null,
            "grid_template_rows": null,
            "height": null,
            "justify_content": null,
            "justify_items": null,
            "left": null,
            "margin": null,
            "max_height": null,
            "max_width": null,
            "min_height": null,
            "min_width": null,
            "object_fit": null,
            "object_position": null,
            "order": null,
            "overflow": null,
            "overflow_x": null,
            "overflow_y": null,
            "padding": null,
            "right": null,
            "top": null,
            "visibility": null,
            "width": null
          }
        },
        "b5d9870f883047298ac2b8e3f272cc17": {
          "model_module": "@jupyter-widgets/controls",
          "model_name": "DescriptionStyleModel",
          "model_module_version": "1.5.0",
          "state": {
            "_model_module": "@jupyter-widgets/controls",
            "_model_module_version": "1.5.0",
            "_model_name": "DescriptionStyleModel",
            "_view_count": null,
            "_view_module": "@jupyter-widgets/base",
            "_view_module_version": "1.2.0",
            "_view_name": "StyleView",
            "description_width": ""
          }
        },
        "cc8e21cb17d34e9d8a6ab823dd48ba1d": {
          "model_module": "@jupyter-widgets/controls",
          "model_name": "HBoxModel",
          "model_module_version": "1.5.0",
          "state": {
            "_dom_classes": [],
            "_model_module": "@jupyter-widgets/controls",
            "_model_module_version": "1.5.0",
            "_model_name": "HBoxModel",
            "_view_count": null,
            "_view_module": "@jupyter-widgets/controls",
            "_view_module_version": "1.5.0",
            "_view_name": "HBoxView",
            "box_style": "",
            "children": [
              "IPY_MODEL_3aebe43850dd494eb4b7e4de1f5a106d",
              "IPY_MODEL_dcb4839e106949679e3f28fcaa4afe68",
              "IPY_MODEL_c39b5a837d3d440bafbc6b133434e9a4"
            ],
            "layout": "IPY_MODEL_a1d57e2de50f4c8ba505c812585f3c27"
          }
        },
        "3aebe43850dd494eb4b7e4de1f5a106d": {
          "model_module": "@jupyter-widgets/controls",
          "model_name": "HTMLModel",
          "model_module_version": "1.5.0",
          "state": {
            "_dom_classes": [],
            "_model_module": "@jupyter-widgets/controls",
            "_model_module_version": "1.5.0",
            "_model_name": "HTMLModel",
            "_view_count": null,
            "_view_module": "@jupyter-widgets/controls",
            "_view_module_version": "1.5.0",
            "_view_name": "HTMLView",
            "description": "",
            "description_tooltip": null,
            "layout": "IPY_MODEL_e3cb6e53bf094c44986218479160372a",
            "placeholder": "​",
            "style": "IPY_MODEL_46e0b4fa6940481fadb13c173e9d1558",
            "value": "tokenizer.json: 100%"
          }
        },
        "dcb4839e106949679e3f28fcaa4afe68": {
          "model_module": "@jupyter-widgets/controls",
          "model_name": "FloatProgressModel",
          "model_module_version": "1.5.0",
          "state": {
            "_dom_classes": [],
            "_model_module": "@jupyter-widgets/controls",
            "_model_module_version": "1.5.0",
            "_model_name": "FloatProgressModel",
            "_view_count": null,
            "_view_module": "@jupyter-widgets/controls",
            "_view_module_version": "1.5.0",
            "_view_name": "ProgressView",
            "bar_style": "success",
            "description": "",
            "description_tooltip": null,
            "layout": "IPY_MODEL_d41bf5b006544794912b5b219ba6b9df",
            "max": 466062,
            "min": 0,
            "orientation": "horizontal",
            "style": "IPY_MODEL_ab2c4526974c457bb7d7aba4b14374da",
            "value": 466062
          }
        },
        "c39b5a837d3d440bafbc6b133434e9a4": {
          "model_module": "@jupyter-widgets/controls",
          "model_name": "HTMLModel",
          "model_module_version": "1.5.0",
          "state": {
            "_dom_classes": [],
            "_model_module": "@jupyter-widgets/controls",
            "_model_module_version": "1.5.0",
            "_model_name": "HTMLModel",
            "_view_count": null,
            "_view_module": "@jupyter-widgets/controls",
            "_view_module_version": "1.5.0",
            "_view_name": "HTMLView",
            "description": "",
            "description_tooltip": null,
            "layout": "IPY_MODEL_5f9b34d88b0749bb929082d39b69287d",
            "placeholder": "​",
            "style": "IPY_MODEL_fb57616cb95549d7ab9fcbea7214e359",
            "value": " 466k/466k [00:00&lt;00:00, 3.73MB/s]"
          }
        },
        "a1d57e2de50f4c8ba505c812585f3c27": {
          "model_module": "@jupyter-widgets/base",
          "model_name": "LayoutModel",
          "model_module_version": "1.2.0",
          "state": {
            "_model_module": "@jupyter-widgets/base",
            "_model_module_version": "1.2.0",
            "_model_name": "LayoutModel",
            "_view_count": null,
            "_view_module": "@jupyter-widgets/base",
            "_view_module_version": "1.2.0",
            "_view_name": "LayoutView",
            "align_content": null,
            "align_items": null,
            "align_self": null,
            "border": null,
            "bottom": null,
            "display": null,
            "flex": null,
            "flex_flow": null,
            "grid_area": null,
            "grid_auto_columns": null,
            "grid_auto_flow": null,
            "grid_auto_rows": null,
            "grid_column": null,
            "grid_gap": null,
            "grid_row": null,
            "grid_template_areas": null,
            "grid_template_columns": null,
            "grid_template_rows": null,
            "height": null,
            "justify_content": null,
            "justify_items": null,
            "left": null,
            "margin": null,
            "max_height": null,
            "max_width": null,
            "min_height": null,
            "min_width": null,
            "object_fit": null,
            "object_position": null,
            "order": null,
            "overflow": null,
            "overflow_x": null,
            "overflow_y": null,
            "padding": null,
            "right": null,
            "top": null,
            "visibility": null,
            "width": null
          }
        },
        "e3cb6e53bf094c44986218479160372a": {
          "model_module": "@jupyter-widgets/base",
          "model_name": "LayoutModel",
          "model_module_version": "1.2.0",
          "state": {
            "_model_module": "@jupyter-widgets/base",
            "_model_module_version": "1.2.0",
            "_model_name": "LayoutModel",
            "_view_count": null,
            "_view_module": "@jupyter-widgets/base",
            "_view_module_version": "1.2.0",
            "_view_name": "LayoutView",
            "align_content": null,
            "align_items": null,
            "align_self": null,
            "border": null,
            "bottom": null,
            "display": null,
            "flex": null,
            "flex_flow": null,
            "grid_area": null,
            "grid_auto_columns": null,
            "grid_auto_flow": null,
            "grid_auto_rows": null,
            "grid_column": null,
            "grid_gap": null,
            "grid_row": null,
            "grid_template_areas": null,
            "grid_template_columns": null,
            "grid_template_rows": null,
            "height": null,
            "justify_content": null,
            "justify_items": null,
            "left": null,
            "margin": null,
            "max_height": null,
            "max_width": null,
            "min_height": null,
            "min_width": null,
            "object_fit": null,
            "object_position": null,
            "order": null,
            "overflow": null,
            "overflow_x": null,
            "overflow_y": null,
            "padding": null,
            "right": null,
            "top": null,
            "visibility": null,
            "width": null
          }
        },
        "46e0b4fa6940481fadb13c173e9d1558": {
          "model_module": "@jupyter-widgets/controls",
          "model_name": "DescriptionStyleModel",
          "model_module_version": "1.5.0",
          "state": {
            "_model_module": "@jupyter-widgets/controls",
            "_model_module_version": "1.5.0",
            "_model_name": "DescriptionStyleModel",
            "_view_count": null,
            "_view_module": "@jupyter-widgets/base",
            "_view_module_version": "1.2.0",
            "_view_name": "StyleView",
            "description_width": ""
          }
        },
        "d41bf5b006544794912b5b219ba6b9df": {
          "model_module": "@jupyter-widgets/base",
          "model_name": "LayoutModel",
          "model_module_version": "1.2.0",
          "state": {
            "_model_module": "@jupyter-widgets/base",
            "_model_module_version": "1.2.0",
            "_model_name": "LayoutModel",
            "_view_count": null,
            "_view_module": "@jupyter-widgets/base",
            "_view_module_version": "1.2.0",
            "_view_name": "LayoutView",
            "align_content": null,
            "align_items": null,
            "align_self": null,
            "border": null,
            "bottom": null,
            "display": null,
            "flex": null,
            "flex_flow": null,
            "grid_area": null,
            "grid_auto_columns": null,
            "grid_auto_flow": null,
            "grid_auto_rows": null,
            "grid_column": null,
            "grid_gap": null,
            "grid_row": null,
            "grid_template_areas": null,
            "grid_template_columns": null,
            "grid_template_rows": null,
            "height": null,
            "justify_content": null,
            "justify_items": null,
            "left": null,
            "margin": null,
            "max_height": null,
            "max_width": null,
            "min_height": null,
            "min_width": null,
            "object_fit": null,
            "object_position": null,
            "order": null,
            "overflow": null,
            "overflow_x": null,
            "overflow_y": null,
            "padding": null,
            "right": null,
            "top": null,
            "visibility": null,
            "width": null
          }
        },
        "ab2c4526974c457bb7d7aba4b14374da": {
          "model_module": "@jupyter-widgets/controls",
          "model_name": "ProgressStyleModel",
          "model_module_version": "1.5.0",
          "state": {
            "_model_module": "@jupyter-widgets/controls",
            "_model_module_version": "1.5.0",
            "_model_name": "ProgressStyleModel",
            "_view_count": null,
            "_view_module": "@jupyter-widgets/base",
            "_view_module_version": "1.2.0",
            "_view_name": "StyleView",
            "bar_color": null,
            "description_width": ""
          }
        },
        "5f9b34d88b0749bb929082d39b69287d": {
          "model_module": "@jupyter-widgets/base",
          "model_name": "LayoutModel",
          "model_module_version": "1.2.0",
          "state": {
            "_model_module": "@jupyter-widgets/base",
            "_model_module_version": "1.2.0",
            "_model_name": "LayoutModel",
            "_view_count": null,
            "_view_module": "@jupyter-widgets/base",
            "_view_module_version": "1.2.0",
            "_view_name": "LayoutView",
            "align_content": null,
            "align_items": null,
            "align_self": null,
            "border": null,
            "bottom": null,
            "display": null,
            "flex": null,
            "flex_flow": null,
            "grid_area": null,
            "grid_auto_columns": null,
            "grid_auto_flow": null,
            "grid_auto_rows": null,
            "grid_column": null,
            "grid_gap": null,
            "grid_row": null,
            "grid_template_areas": null,
            "grid_template_columns": null,
            "grid_template_rows": null,
            "height": null,
            "justify_content": null,
            "justify_items": null,
            "left": null,
            "margin": null,
            "max_height": null,
            "max_width": null,
            "min_height": null,
            "min_width": null,
            "object_fit": null,
            "object_position": null,
            "order": null,
            "overflow": null,
            "overflow_x": null,
            "overflow_y": null,
            "padding": null,
            "right": null,
            "top": null,
            "visibility": null,
            "width": null
          }
        },
        "fb57616cb95549d7ab9fcbea7214e359": {
          "model_module": "@jupyter-widgets/controls",
          "model_name": "DescriptionStyleModel",
          "model_module_version": "1.5.0",
          "state": {
            "_model_module": "@jupyter-widgets/controls",
            "_model_module_version": "1.5.0",
            "_model_name": "DescriptionStyleModel",
            "_view_count": null,
            "_view_module": "@jupyter-widgets/base",
            "_view_module_version": "1.2.0",
            "_view_name": "StyleView",
            "description_width": ""
          }
        },
        "f4140927a9824f1487c7a890611b7129": {
          "model_module": "@jupyter-widgets/controls",
          "model_name": "HBoxModel",
          "model_module_version": "1.5.0",
          "state": {
            "_dom_classes": [],
            "_model_module": "@jupyter-widgets/controls",
            "_model_module_version": "1.5.0",
            "_model_name": "HBoxModel",
            "_view_count": null,
            "_view_module": "@jupyter-widgets/controls",
            "_view_module_version": "1.5.0",
            "_view_name": "HBoxView",
            "box_style": "",
            "children": [
              "IPY_MODEL_8fdc2f3bd43e43288fb6b22732af9e74",
              "IPY_MODEL_0233cc56bbda439ab26d9dcfd1b64f0d",
              "IPY_MODEL_318d90bac0fb4a2d95ccb0f38047fe39"
            ],
            "layout": "IPY_MODEL_b868fd3d16ca4ca89c1807827ea19361"
          }
        },
        "8fdc2f3bd43e43288fb6b22732af9e74": {
          "model_module": "@jupyter-widgets/controls",
          "model_name": "HTMLModel",
          "model_module_version": "1.5.0",
          "state": {
            "_dom_classes": [],
            "_model_module": "@jupyter-widgets/controls",
            "_model_module_version": "1.5.0",
            "_model_name": "HTMLModel",
            "_view_count": null,
            "_view_module": "@jupyter-widgets/controls",
            "_view_module_version": "1.5.0",
            "_view_name": "HTMLView",
            "description": "",
            "description_tooltip": null,
            "layout": "IPY_MODEL_59165e9d55f0488597b393a7fe9fc4b6",
            "placeholder": "​",
            "style": "IPY_MODEL_de7d958eae9349e69c3d0e50968eaca8",
            "value": "config.json: 100%"
          }
        },
        "0233cc56bbda439ab26d9dcfd1b64f0d": {
          "model_module": "@jupyter-widgets/controls",
          "model_name": "FloatProgressModel",
          "model_module_version": "1.5.0",
          "state": {
            "_dom_classes": [],
            "_model_module": "@jupyter-widgets/controls",
            "_model_module_version": "1.5.0",
            "_model_name": "FloatProgressModel",
            "_view_count": null,
            "_view_module": "@jupyter-widgets/controls",
            "_view_module_version": "1.5.0",
            "_view_name": "ProgressView",
            "bar_style": "success",
            "description": "",
            "description_tooltip": null,
            "layout": "IPY_MODEL_1e05755b15a04c76aa7ec17a2b1420be",
            "max": 483,
            "min": 0,
            "orientation": "horizontal",
            "style": "IPY_MODEL_b72c6b43e7324c3fbe29fc456007be9c",
            "value": 483
          }
        },
        "318d90bac0fb4a2d95ccb0f38047fe39": {
          "model_module": "@jupyter-widgets/controls",
          "model_name": "HTMLModel",
          "model_module_version": "1.5.0",
          "state": {
            "_dom_classes": [],
            "_model_module": "@jupyter-widgets/controls",
            "_model_module_version": "1.5.0",
            "_model_name": "HTMLModel",
            "_view_count": null,
            "_view_module": "@jupyter-widgets/controls",
            "_view_module_version": "1.5.0",
            "_view_name": "HTMLView",
            "description": "",
            "description_tooltip": null,
            "layout": "IPY_MODEL_280684270af44be2aaad7f342def58b2",
            "placeholder": "​",
            "style": "IPY_MODEL_cd40f1ca90ec4beb85d555dac561f1eb",
            "value": " 483/483 [00:00&lt;00:00, 5.51kB/s]"
          }
        },
        "b868fd3d16ca4ca89c1807827ea19361": {
          "model_module": "@jupyter-widgets/base",
          "model_name": "LayoutModel",
          "model_module_version": "1.2.0",
          "state": {
            "_model_module": "@jupyter-widgets/base",
            "_model_module_version": "1.2.0",
            "_model_name": "LayoutModel",
            "_view_count": null,
            "_view_module": "@jupyter-widgets/base",
            "_view_module_version": "1.2.0",
            "_view_name": "LayoutView",
            "align_content": null,
            "align_items": null,
            "align_self": null,
            "border": null,
            "bottom": null,
            "display": null,
            "flex": null,
            "flex_flow": null,
            "grid_area": null,
            "grid_auto_columns": null,
            "grid_auto_flow": null,
            "grid_auto_rows": null,
            "grid_column": null,
            "grid_gap": null,
            "grid_row": null,
            "grid_template_areas": null,
            "grid_template_columns": null,
            "grid_template_rows": null,
            "height": null,
            "justify_content": null,
            "justify_items": null,
            "left": null,
            "margin": null,
            "max_height": null,
            "max_width": null,
            "min_height": null,
            "min_width": null,
            "object_fit": null,
            "object_position": null,
            "order": null,
            "overflow": null,
            "overflow_x": null,
            "overflow_y": null,
            "padding": null,
            "right": null,
            "top": null,
            "visibility": null,
            "width": null
          }
        },
        "59165e9d55f0488597b393a7fe9fc4b6": {
          "model_module": "@jupyter-widgets/base",
          "model_name": "LayoutModel",
          "model_module_version": "1.2.0",
          "state": {
            "_model_module": "@jupyter-widgets/base",
            "_model_module_version": "1.2.0",
            "_model_name": "LayoutModel",
            "_view_count": null,
            "_view_module": "@jupyter-widgets/base",
            "_view_module_version": "1.2.0",
            "_view_name": "LayoutView",
            "align_content": null,
            "align_items": null,
            "align_self": null,
            "border": null,
            "bottom": null,
            "display": null,
            "flex": null,
            "flex_flow": null,
            "grid_area": null,
            "grid_auto_columns": null,
            "grid_auto_flow": null,
            "grid_auto_rows": null,
            "grid_column": null,
            "grid_gap": null,
            "grid_row": null,
            "grid_template_areas": null,
            "grid_template_columns": null,
            "grid_template_rows": null,
            "height": null,
            "justify_content": null,
            "justify_items": null,
            "left": null,
            "margin": null,
            "max_height": null,
            "max_width": null,
            "min_height": null,
            "min_width": null,
            "object_fit": null,
            "object_position": null,
            "order": null,
            "overflow": null,
            "overflow_x": null,
            "overflow_y": null,
            "padding": null,
            "right": null,
            "top": null,
            "visibility": null,
            "width": null
          }
        },
        "de7d958eae9349e69c3d0e50968eaca8": {
          "model_module": "@jupyter-widgets/controls",
          "model_name": "DescriptionStyleModel",
          "model_module_version": "1.5.0",
          "state": {
            "_model_module": "@jupyter-widgets/controls",
            "_model_module_version": "1.5.0",
            "_model_name": "DescriptionStyleModel",
            "_view_count": null,
            "_view_module": "@jupyter-widgets/base",
            "_view_module_version": "1.2.0",
            "_view_name": "StyleView",
            "description_width": ""
          }
        },
        "1e05755b15a04c76aa7ec17a2b1420be": {
          "model_module": "@jupyter-widgets/base",
          "model_name": "LayoutModel",
          "model_module_version": "1.2.0",
          "state": {
            "_model_module": "@jupyter-widgets/base",
            "_model_module_version": "1.2.0",
            "_model_name": "LayoutModel",
            "_view_count": null,
            "_view_module": "@jupyter-widgets/base",
            "_view_module_version": "1.2.0",
            "_view_name": "LayoutView",
            "align_content": null,
            "align_items": null,
            "align_self": null,
            "border": null,
            "bottom": null,
            "display": null,
            "flex": null,
            "flex_flow": null,
            "grid_area": null,
            "grid_auto_columns": null,
            "grid_auto_flow": null,
            "grid_auto_rows": null,
            "grid_column": null,
            "grid_gap": null,
            "grid_row": null,
            "grid_template_areas": null,
            "grid_template_columns": null,
            "grid_template_rows": null,
            "height": null,
            "justify_content": null,
            "justify_items": null,
            "left": null,
            "margin": null,
            "max_height": null,
            "max_width": null,
            "min_height": null,
            "min_width": null,
            "object_fit": null,
            "object_position": null,
            "order": null,
            "overflow": null,
            "overflow_x": null,
            "overflow_y": null,
            "padding": null,
            "right": null,
            "top": null,
            "visibility": null,
            "width": null
          }
        },
        "b72c6b43e7324c3fbe29fc456007be9c": {
          "model_module": "@jupyter-widgets/controls",
          "model_name": "ProgressStyleModel",
          "model_module_version": "1.5.0",
          "state": {
            "_model_module": "@jupyter-widgets/controls",
            "_model_module_version": "1.5.0",
            "_model_name": "ProgressStyleModel",
            "_view_count": null,
            "_view_module": "@jupyter-widgets/base",
            "_view_module_version": "1.2.0",
            "_view_name": "StyleView",
            "bar_color": null,
            "description_width": ""
          }
        },
        "280684270af44be2aaad7f342def58b2": {
          "model_module": "@jupyter-widgets/base",
          "model_name": "LayoutModel",
          "model_module_version": "1.2.0",
          "state": {
            "_model_module": "@jupyter-widgets/base",
            "_model_module_version": "1.2.0",
            "_model_name": "LayoutModel",
            "_view_count": null,
            "_view_module": "@jupyter-widgets/base",
            "_view_module_version": "1.2.0",
            "_view_name": "LayoutView",
            "align_content": null,
            "align_items": null,
            "align_self": null,
            "border": null,
            "bottom": null,
            "display": null,
            "flex": null,
            "flex_flow": null,
            "grid_area": null,
            "grid_auto_columns": null,
            "grid_auto_flow": null,
            "grid_auto_rows": null,
            "grid_column": null,
            "grid_gap": null,
            "grid_row": null,
            "grid_template_areas": null,
            "grid_template_columns": null,
            "grid_template_rows": null,
            "height": null,
            "justify_content": null,
            "justify_items": null,
            "left": null,
            "margin": null,
            "max_height": null,
            "max_width": null,
            "min_height": null,
            "min_width": null,
            "object_fit": null,
            "object_position": null,
            "order": null,
            "overflow": null,
            "overflow_x": null,
            "overflow_y": null,
            "padding": null,
            "right": null,
            "top": null,
            "visibility": null,
            "width": null
          }
        },
        "cd40f1ca90ec4beb85d555dac561f1eb": {
          "model_module": "@jupyter-widgets/controls",
          "model_name": "DescriptionStyleModel",
          "model_module_version": "1.5.0",
          "state": {
            "_model_module": "@jupyter-widgets/controls",
            "_model_module_version": "1.5.0",
            "_model_name": "DescriptionStyleModel",
            "_view_count": null,
            "_view_module": "@jupyter-widgets/base",
            "_view_module_version": "1.2.0",
            "_view_name": "StyleView",
            "description_width": ""
          }
        }
      }
    }
  },
  "cells": [
    {
      "cell_type": "markdown",
      "metadata": {
        "id": "view-in-github",
        "colab_type": "text"
      },
      "source": [
        "<a href=\"https://colab.research.google.com/github/chhaewxn/huggingface_lab/blob/main/Hugging_Face_Week2_Quiz.ipynb\" target=\"_parent\"><img src=\"https://colab.research.google.com/assets/colab-badge.svg\" alt=\"Open In Colab\"/></a>"
      ]
    },
    {
      "cell_type": "markdown",
      "source": [
        "# Hugging Face Transformers 실습하며 배우기 🤗"
      ],
      "metadata": {
        "id": "MgdWlhtgkspP"
      }
    },
    {
      "cell_type": "markdown",
      "source": [
        "작성자: Hugging Face KREW, [김하림](https://github.com/harheem)"
      ],
      "metadata": {
        "id": "aNrBlQ8AwHQ9"
      }
    },
    {
      "cell_type": "markdown",
      "source": [
        "트랜스포머 기반의 사전 학습 모델의 뛰어난 점은 엄청난 양의 텍스트 데이터를 사용해 단어와 문장의 관계를 스스로 학습한다는 점이에요. 책, 뉴스, 웹 문서 등 다양한 텍스트를 분석하며 언어의 구조와 의미를 이해하게 된답니다.\n",
        "\n",
        "하지만 이렇게 학습한 모델을 특정 작업에 활용하려면 추가 학습이 필요할 수 있어요. 이를 '파인튜닝'이라고 합니다. 파인튜닝은 적은 양의 labeled 데이터를 사용해 모델을 우리가 원하는 작업에 맞게 조정하는 과정을 의미해요.\n",
        "\n",
        "이번 주에는 이러한 파인튜닝을 위한 데이터셋을 어떻게 준비하는지 배워보도록 할게요. 좋은 데이터셋을 만드는 것이 정확한 모델을 얻는 첫 걸음이니까요 🤗"
      ],
      "metadata": {
        "id": "5f8g1LLZpRT9"
      }
    },
    {
      "cell_type": "markdown",
      "source": [
        "### #문제 004\n",
        "\n",
        "[IMDB 데이터세트](https://huggingface.co/datasets/stanfordnlp/imdb)는 영화 리뷰 코멘트의 긍정적/부정적 감성을 판단하기 위해 사용하는 감성 분석 데이터세트입니다. 데이터세트 구성은 다음과 같아요.\n",
        "- 25,000개 학습 데이터 (텍스트 및 레이블)\n",
        "- 25,000개 테스트 데이터 (텍스트 및 레이블)\n",
        "\n",
        "이 50,000개 데이터세트를 다운로드하는 코드를 작성해보세요. 그리고 학습과 테스트를 위해 랜덤하게 1,000개씩 데이터를 추출해보세요."
      ],
      "metadata": {
        "id": "cOXvKkjPk1Fq"
      }
    },
    {
      "cell_type": "markdown",
      "source": [
        "💡 HINT\n",
        "\n",
        "1.\t필요한 라이브러리 설치:\n",
        "\n",
        "  먼저, Hugging Face의 🤗 datasets 라이브러리를 설치해야 합니다. 커맨드 라인에서 다음 명령어를 실행하세요.\n",
        "\n",
        "  `!pip install datasets`\n",
        "2. `load_dataset()`을 이용하여 데이터세트 불러오세요.\n",
        "\n",
        "  ```python\n",
        "    from datasets import load_dataset\n",
        "    dataset = load_dataset('여기에 데이터세트 이름을 넣어보세요')\n",
        "  ```\n",
        "  \n",
        "3. datasets의 shuffle() 메소드와 select() 메소드를 사용하여 데이터를 추출해보세요.\n",
        "  ```python\n",
        "    dataset['train'].shuffle(seed=seed).select(range(n))\n",
        "  ```\n",
        "\n",
        "> 못 풀겠어도 걱정하지 마세요. [이 문서](https://huggingface.co/docs/datasets/main/en/loading)에서 답을 찾을 수 있어요 👀"
      ],
      "metadata": {
        "id": "KETES-Fd7ZEW"
      }
    },
    {
      "cell_type": "code",
      "source": [
        "!pip install datasets"
      ],
      "metadata": {
        "colab": {
          "base_uri": "https://localhost:8080/"
        },
        "collapsed": true,
        "id": "oilCeLiPOtEQ",
        "outputId": "ba89e471-1944-44e7-d60a-ef540f812df8"
      },
      "execution_count": 24,
      "outputs": [
        {
          "output_type": "stream",
          "name": "stdout",
          "text": [
            "Requirement already satisfied: datasets in /usr/local/lib/python3.10/dist-packages (2.20.0)\n",
            "Requirement already satisfied: filelock in /usr/local/lib/python3.10/dist-packages (from datasets) (3.15.4)\n",
            "Requirement already satisfied: numpy>=1.17 in /usr/local/lib/python3.10/dist-packages (from datasets) (1.26.4)\n",
            "Requirement already satisfied: pyarrow>=15.0.0 in /usr/local/lib/python3.10/dist-packages (from datasets) (17.0.0)\n",
            "Requirement already satisfied: pyarrow-hotfix in /usr/local/lib/python3.10/dist-packages (from datasets) (0.6)\n",
            "Requirement already satisfied: dill<0.3.9,>=0.3.0 in /usr/local/lib/python3.10/dist-packages (from datasets) (0.3.8)\n",
            "Requirement already satisfied: pandas in /usr/local/lib/python3.10/dist-packages (from datasets) (2.1.4)\n",
            "Requirement already satisfied: requests>=2.32.2 in /usr/local/lib/python3.10/dist-packages (from datasets) (2.32.3)\n",
            "Requirement already satisfied: tqdm>=4.66.3 in /usr/local/lib/python3.10/dist-packages (from datasets) (4.66.4)\n",
            "Requirement already satisfied: xxhash in /usr/local/lib/python3.10/dist-packages (from datasets) (3.4.1)\n",
            "Requirement already satisfied: multiprocess in /usr/local/lib/python3.10/dist-packages (from datasets) (0.70.16)\n",
            "Requirement already satisfied: fsspec<=2024.5.0,>=2023.1.0 in /usr/local/lib/python3.10/dist-packages (from fsspec[http]<=2024.5.0,>=2023.1.0->datasets) (2024.5.0)\n",
            "Requirement already satisfied: aiohttp in /usr/local/lib/python3.10/dist-packages (from datasets) (3.9.5)\n",
            "Requirement already satisfied: huggingface-hub>=0.21.2 in /usr/local/lib/python3.10/dist-packages (from datasets) (0.23.5)\n",
            "Requirement already satisfied: packaging in /usr/local/lib/python3.10/dist-packages (from datasets) (24.1)\n",
            "Requirement already satisfied: pyyaml>=5.1 in /usr/local/lib/python3.10/dist-packages (from datasets) (6.0.1)\n",
            "Requirement already satisfied: aiosignal>=1.1.2 in /usr/local/lib/python3.10/dist-packages (from aiohttp->datasets) (1.3.1)\n",
            "Requirement already satisfied: attrs>=17.3.0 in /usr/local/lib/python3.10/dist-packages (from aiohttp->datasets) (23.2.0)\n",
            "Requirement already satisfied: frozenlist>=1.1.1 in /usr/local/lib/python3.10/dist-packages (from aiohttp->datasets) (1.4.1)\n",
            "Requirement already satisfied: multidict<7.0,>=4.5 in /usr/local/lib/python3.10/dist-packages (from aiohttp->datasets) (6.0.5)\n",
            "Requirement already satisfied: yarl<2.0,>=1.0 in /usr/local/lib/python3.10/dist-packages (from aiohttp->datasets) (1.9.4)\n",
            "Requirement already satisfied: async-timeout<5.0,>=4.0 in /usr/local/lib/python3.10/dist-packages (from aiohttp->datasets) (4.0.3)\n",
            "Requirement already satisfied: typing-extensions>=3.7.4.3 in /usr/local/lib/python3.10/dist-packages (from huggingface-hub>=0.21.2->datasets) (4.12.2)\n",
            "Requirement already satisfied: charset-normalizer<4,>=2 in /usr/local/lib/python3.10/dist-packages (from requests>=2.32.2->datasets) (3.3.2)\n",
            "Requirement already satisfied: idna<4,>=2.5 in /usr/local/lib/python3.10/dist-packages (from requests>=2.32.2->datasets) (3.7)\n",
            "Requirement already satisfied: urllib3<3,>=1.21.1 in /usr/local/lib/python3.10/dist-packages (from requests>=2.32.2->datasets) (2.0.7)\n",
            "Requirement already satisfied: certifi>=2017.4.17 in /usr/local/lib/python3.10/dist-packages (from requests>=2.32.2->datasets) (2024.7.4)\n",
            "Requirement already satisfied: python-dateutil>=2.8.2 in /usr/local/lib/python3.10/dist-packages (from pandas->datasets) (2.8.2)\n",
            "Requirement already satisfied: pytz>=2020.1 in /usr/local/lib/python3.10/dist-packages (from pandas->datasets) (2024.1)\n",
            "Requirement already satisfied: tzdata>=2022.1 in /usr/local/lib/python3.10/dist-packages (from pandas->datasets) (2024.1)\n",
            "Requirement already satisfied: six>=1.5 in /usr/local/lib/python3.10/dist-packages (from python-dateutil>=2.8.2->pandas->datasets) (1.16.0)\n"
          ]
        }
      ]
    },
    {
      "cell_type": "code",
      "execution_count": 25,
      "metadata": {
        "id": "FlGwqxXKkpwG",
        "colab": {
          "base_uri": "https://localhost:8080/"
        },
        "outputId": "8b0427f3-8b7e-45bd-ead1-40eae9d01dd5"
      },
      "outputs": [
        {
          "output_type": "stream",
          "name": "stdout",
          "text": [
            "학습 데이터 크기: 1000\n",
            "테스트 데이터 크기: 1000\n"
          ]
        }
      ],
      "source": [
        "# 필요한 라이브러리 불러오기\n",
        "from datasets import load_dataset\n",
        "import random\n",
        "\n",
        "# 데이터 불러오기\n",
        "dataset = load_dataset('imdb')\n",
        "\n",
        "seed = 50\n",
        "\n",
        "# 데이터 추출하기\n",
        "train_dataset = dataset['train'].shuffle(seed=seed).select(range(1000))\n",
        "test_dataset = dataset['test'].shuffle(seed=seed).select(range(1000))\n",
        "\n",
        "# 결과 확인\n",
        "print(f\"학습 데이터 크기: {len(train_dataset)}\")\n",
        "print(f\"테스트 데이터 크기: {len(test_dataset)}\")"
      ]
    },
    {
      "cell_type": "code",
      "source": [
        "# 학습 데이터셋에서 첫 번째 샘플 출력\n",
        "print(\"\\n학습 데이터 샘플:\")\n",
        "print(train_dataset[0])\n",
        "\n",
        "# 테스트 데이터셋에서 첫 번째 샘플 출력\n",
        "print(\"\\n테스트 데이터 샘플:\")\n",
        "print(test_dataset[0])"
      ],
      "metadata": {
        "id": "UGoWHr7U1vl8",
        "colab": {
          "base_uri": "https://localhost:8080/"
        },
        "outputId": "4f650f6c-8356-4c5a-870c-e0e7aad06e24"
      },
      "execution_count": 26,
      "outputs": [
        {
          "output_type": "stream",
          "name": "stdout",
          "text": [
            "\n",
            "학습 데이터 샘플:\n",
            "{'text': \"The film lacks style, i mean original style. everything looks copied including action, first appearances in the movie, songs, dialog delivery, etc etc. Yes, there the goof-ups were original, like in the beginning a car is shown with number UP**** number and few seconds later it starts falling down a hill with number MH**** . That was one in many goof-ups of the movie :) Anything good in the movie? yes, for kareena fans, if there are any, Kareena in bikini. For akshay fans, his dialogs and action stunts. Thats it. nothing else. So watch it on your own risk and don't blame the director or actors. Director is already insane and actors, i pity them.\", 'label': 0}\n",
            "\n",
            "테스트 데이터 샘플:\n",
            "{'text': 'I wanted to like this movie. I really, really did. I was so excited when I saw the preview, which scared the hell out of me. But when I saw the actual film, I was disappointed. The acting is stilted, and the attempts at comedy are woefully out of place and forced. And I\\'m sorry, but a boy being chased by a turd in a bedpan is not funny or scary, it\\'s just stupid. I grew up on the Bell Witch legend, so I know quite a bit about it. A lot of facts in the movie are right on target, but this film should have been much better. The entire birthday party scene, for example, lasts about fifteen minutes, adds nothing to the plot or the story, and should have been left on the cutting room floor. A more heavy-handed editor might have been able to get a decent film out of this mess.<br /><br />Please understand, I\\'m not in any way, shape or form involved with the other Bell Witch movie, and I\\'m not trying to \"attack\" this IMDb listing. I\\'m just telling it like it is.', 'label': 0}\n"
          ]
        }
      ]
    },
    {
      "cell_type": "markdown",
      "source": [
        "### #문제 005\n",
        "\n",
        "문제 005에서 negative `'0'`과 positive `'1'`로 인코딩된 1,000개의 학습 데이터 중에서 800개는 학습 `training` 용도로, 200개는 검증 `validation` 용도로 랜덤하게 나누어 보세요.\n",
        "\n",
        "\n",
        "> 1,000개의 데이터를 800개의 학습용과 200개의 검증용으로 나누는 이유는 모델의 효과적인 학습과 평가를 위해서입니다. 학습 데이터로 모델을 훈련시키고, 검증 데이터로 모델의 성능을 평가합니다. 이렇게 분리함으로써 모델이 학습 데이터만을 '외우는' 과적합을 방지하고, 새로운 데이터에 대한 일반화 능력을 확인할 수 있습니다. 또한, 검증 결과를 바탕으로 모델의 하이퍼파라미터를 조정하여 성능을 개선할 수 있습니다. 이는 머신러닝 모델 개발에서 중요한 과정으로, 더 견고하고 신뢰할 수 있는 모델을 만드는 데 도움이 됩니다."
      ],
      "metadata": {
        "id": "xRJ4M1gdA1cy"
      }
    },
    {
      "cell_type": "markdown",
      "source": [
        "💡 HINT\n",
        "\n",
        "1. `train_test_split()` 메소드를 사용하여 학습 데이터를 8:2로 나누어보세요.\n",
        "\n",
        "2. `train_test_split()` 메소드에서 사용하는 [파라미터를 확인](https://huggingface.co/docs/datasets/v2.20.0/en/package_reference/main_classes#datasets.Dataset.train_test_split)하고 데이터를 나누는 다양한 방법에 대해 익혀보세요.\n",
        "\n",
        "> 못 풀겠어도 걱정하지 마세요. [이 문서](https://huggingface.co/docs/datasets/process#split)에서 답을 찾을 수 있어요 👀"
      ],
      "metadata": {
        "id": "hqyq4Fkfu4pq"
      }
    },
    {
      "cell_type": "code",
      "source": [
        "from sklearn.model_selection import train_test_split\n",
        "\n",
        "# 학습 데이터를 8:2 비율로 나누기\n",
        "split_dataset = train_dataset.train_test_split(test_size=0.2, seed=seed)\n",
        "\n",
        "# split_dataset에서 훈련 데이터, 검증 데이터 가져오기\n",
        "train_dataset = split_dataset['train']\n",
        "valid_dataset = split_dataset['test']\n",
        "\n",
        "# 결과 확인\n",
        "print(\"학습 데이터 크기:\", len(train_dataset))\n",
        "print(\"검증 데이터 크기:\", len(valid_dataset))\n",
        "\n",
        "# 학습 데이터의 일부 샘플 출력\n",
        "print(\"\\n학습 데이터 샘플:\")\n",
        "print(train_dataset[:5])\n",
        "\n",
        "# 검증 데이터의 일부 샘플 출력\n",
        "print(\"\\n검증 데이터 샘플:\")\n",
        "print(valid_dataset[:5])"
      ],
      "metadata": {
        "id": "OYG1b1IgBUiX",
        "colab": {
          "base_uri": "https://localhost:8080/"
        },
        "outputId": "e1b00e46-b9cc-4a9e-f4e6-425367c28c74"
      },
      "execution_count": 28,
      "outputs": [
        {
          "output_type": "stream",
          "name": "stdout",
          "text": [
            "학습 데이터 크기: 800\n",
            "검증 데이터 크기: 200\n",
            "\n",
            "학습 데이터 샘플:\n",
            "{'text': ['Basically, take the concept of every Asian horror ghost movie and smash it into one and you get this movie. The story goes like this: a bunch of college kids get voice mails from their own phones that are foretelling their deaths. There\\'s some s*** going on with ghosts, which if you\\'ve seen any Asian ghost movie, isn\\'t scary by now. This movie was quite upsetting because it\\'s very clichéd. It\\'s the same bullcrap, different movie.<br /><br />The acting was pretty good. Unfortunately the actors are put into a very Ring-esquire situation, so it\\'s nothing we haven\\'t seen in the past. The two lead acts did a solid job though.<br /><br />As far as gore, there\\'s not much going on. We get a cool sequence that includes an arm twisting a head off (I don\\'t know how else to explain that), but it was cut away so you don\\'t see anything except the final result. You see some blood at times, including decapitated arms and a zombie (that looked really cool I might add), but this movie isn\\'t too bloody.<br /><br />The scares in the movie are few and spread out, and it\\'s really not that scary. You\\'ll get some creepy images at times, but it\\'s not enough for me to consider scary. It\\'s nothing different from Ringu, Ju-On, or Dark Water, and none of those scared me either. That\\'s really the downfall of this (and most Asian horror movies) is that if it doesn\\'t deliver the scares then it\\'s just not that good.<br /><br />As far as directing, Takashi Miike still did a pretty good job. He seemed a little tamed in this movie compared to his past movies, but he still portrays a lot of his messed up style he\\'s become famous for. A lot of images were a lot like Miike (including a scene with a bunch of jars of dead fetuses), and the last 15 - 20 minutes seemed far more Miike then the rest of the movie. Still, the movie is flawed by its unoriginality.<br /><br />I would recommend this only to people who are huge on Asian horror movies (even if you are, I can recommend much better) or big Miike fans. Warning to those who want to get into Miike, this is NOT his best work.<br /><br />I\\'m giving it a 4 because it\\'s just mediocre. Perhaps if this was released 4 or 5 years ago it might be worth a higher rating.<br /><br />Also, I\\'d like to b**** about Asian horror movies real quick. How come if it\\'s an Asian horror movie it\\'s automatically suppose to be good over here (US)? A LOT of these movies are the equivalent in Japan to what Scream, Urban Legends, and I Know What You Did Last Summer were over here in the 90\\'s. If you\\'ve seen one you\\'ve seen them all. And a lot of these movies rely way too much on scares and imagery that if it doesn\\'t deliver the scares they set out to do then they\\'re just not that good, and nothing would change that. More Asian horror films need to be more like Audition and A Tale of Two Sisters, two movies that if they don\\'t frighten or scare you, at least they have great stories, acting, direction, cinematography, and much more to back them up. Two movies that aren\\'t just great horror movies, but great movies in general. More Asian horror movies need to be like these instead of the cliché, \"A ghost just wanted to be found so it went around killing people through their phone/video tape/house/electric appliance/water pipes/google search engine/vibrator/groceries/etc.\"', 'After eight Moto films the series had run its course, as this last entry demonstrates. Peter Lorre was clearly weary of trying to pump some sort of human interest and entertainment value into the wispy character of Moto, and the dreadful idea of pairing him with a \"funny\" British sidekick utterly defeats all his efforts here.', \"He really lost the plot with this one! None of his distinctive trademarks here at all, an uninteresting plot and completely terrible acting make this his worst film (in my opinion). Even his trademark gore is gone, bar one scene in an operating theatre. Oh well, at least his next film 'Nightmare Concert' showed that he could still shock when he wanted to...\", \"This is a movie that is bad in every imaginable way. Sure we like to know what happened 12 years from the last movie, and it works on some level. But the new characters are just not interesting. Baby Melody is hideously horrible! Alas, while the logic that humans can't stay underwater forever is maintained, other basic physical logic are ignored. It's chilly if you don't have cold weather garments if you're in the Arctic. I don't know why most comments here Return of Jafar rates worse, I thought this one is more horrible.\", \"I watched this film because I'm a big fan of River Phoenix and Joaquin Phoenix. I thought I would give their sister a try, Rain Phoenix. I regret checking it out. She was embarrasing and the film just has this weird plot if thats what you want to call it. Sissy was just weird and Jellybean just sits on a toilet who both sleep with this old man in the mountains, whats going on? I have never been so unsatisfied in my life. It was just total rubbish. I can't believe that the actors agreed to do such a waste of film, money, time and space. Have Sissy being 'beautiful' didnt get to me. I thought she was everything but that. Those thumbs were just stupid, and why do we care if she can hitchhike? WHATS THE POINT??? 0 out of 10, shame the poll doesnt have a 0, doesnt even deserve a 1. Hopefully, Rain is better in other films, I forgive her for this one performance, I mean I wouldnt do much better with that film.\"], 'label': [0, 0, 0, 0, 0]}\n",
            "\n",
            "검증 데이터 샘플:\n",
            "{'text': [\"Ulises is a literature teacher that arrives to a coastal town. There, he will fell in love to Martina, the most beautiful girl in town. They will start a torrid romance which will end in the tragic death of Ulises at the sea. Some years later, Martina has married to Sierra, the richest man in town and lives a quiet happy live surrounded by money. One day, the apparition of Ulises will make her passion to rise up and act without thinking the consequences. The plot is quite absurd and none of the actors plays a decent part. IN addition, three quarters of the film are sexual acts, which, still being well filmed, are quite tiring, as we want to see More development of the story. It is just a bad Bigas Luna's film, with lots of sex, no argument and stupid characters everywhere.\", 'I love Westerns. I could watch them all day. \"The Good, the Bad, and the Ugly\" is my all time favorite. I watched \"Silverado\" for probably the 8th time just the other day because it was being featured on CMT. However, this movie, Shiloh Falls is without a doubt the worst Western I have ever watched. The acting was terrible all around. They explain nothing at the end of the mysterious compass looking thing. The only good part I can think of is the good-looking cantina girl. The very noticeable long pauses between the dialog seemed intentional just to make up time to make the movie of acceptable length. This movie wasn\\'t even worth the new rental fee I paid at our local movie rental store. I felt like I was robbed and deserving of a rental refund if there was such a thing. Only reason I finished it was because I hate to not see a movie through to the end. I turned it off half way through because it was so bad. To the director, please do a better job if you decide to make another. This is the kind of movie that has the potential to turn people off to Westerns.', \"1st watched 8/3/2003 - 2 out of 10(Dir-Brad Sykes): Mindless 3-D movie about flesh-eating zombies in a 3 story within a movie chronicle. And yes, we get to see zombies eating human flesh parts in 3D!! Wow, not!! That has been done time and time again in 2D in a zombie movie but what usually makes a zombie movie better is the underlying story not the actual flesh-eating. That's what made the original zombie classics good. The flesh-eating was just thrown in as an extra. We're actually bored throughout most of this 3-part chronicle because of the lame(twilight-zone like) easily understood and slow-pacingly revealed finale's. The last story is actually the story the movie started with(having a reporter investigating a so-called ghost town) and of course we get to see flesh eating zombie's in that one as well. Well, I think I've said enough. Watch the classics, not this 3D bore-feast.\", \"It's a strange thing to see a film where some scenes work rather weakly (if only in comparison to other films in its legacy), and others in a 'sub-plot' or supporting story are surprisingly provocative and strong. Sudden Impact is one of those cases, where Clint Eastwood as star/producer/director shows when he can be at his best, or at his lessor of times when dealing with a crime/mystery/detective story in his Dirty Harry fame. We get that 'make my day' line, and un-like in the first film where his 'do I feel lucky' speech was playful and cool the first time and the second time at the end tough as nails, here it's switched around. He gets into another shamble with the department, as usual, when he tries to fight crime 'his' way, in particular with a diner robbery (inspiration for Pulp Fiction?) and with a high speed pursuit with a senior citizen bus. He's told to 'take a vacation', and that's the last thing on his mind. This whole main plot isn't very convincing aside from the expectancy of the story and lines, which just adds to the frustration. But soon his story merges with the sub-plot that Eastwood develops from the start.<br /><br />Enter Sandra Locke's character, Jennifer Spencer, whom we soon learn after some (appropriately) mysterious scenes that she and her shy sister were victims of a cruel, unjust sexual assault (err, outright rape), and is sleekly, undercover-like, getting revenge. Her scenes and story are the strongest parts of the film, the most intense, and finally when it goes into Callahan's storyline (he's getting facts in the same small town she's in on a murder), the film finally finds a focus between Eastwood's classic form of clearly defined good vs. evil (though sometimes blurred, to be sure). Eastwood films the flashbacks, not to say too much about them, expertly, in a fresh, experimental style; the trademark Lalo Schifrin score is totally atmospheric in these scenes and in others. It almost seems like a couple of times an art-house sensibility has crept into Eastwood's firmly straightforward storytelling style, which helps make the film watchable.<br /><br />It's a shame, though, that in the end it goes more for the expectable (or maybe not expectable) points, and until the third act Callahan doesn't have much to do except his usual 'it's smith...Wesson...and me' shtick. However, with Locke he gets out of her a very good performance (more subtle and touching than the one in the Gauntlet) and an exciting climax at an amusement park. In a way I do and don't agree with Ebert's remark that it's like a 'music video' in Eastwood's style here. I admit there is comparisons with the simplicity of both, the directness, but the scenes where Eastwood does break form are superior to those of any music video. It's cheesy, it's hard-edged, it's not up to par with the first two 'Harry' pictures, but hey, there could be worse ways to spend a couple hours with the master of the .44.\", 'Nicolas Roeg\\'s projects are variable to say the least, but are never less than interesting. \"Insignificance\" is obviously, first and foremost, an adapted stageplay: it\\'s wordy and pretty-much \\'room-bound\\'. BUT, it pays to view this film more than once: the underlying themes are not overtly presented and, what\\'s more, it takes a while to adjust to the juxtaposition and role-reversals of the four protagonists: Einstein, McCarthy, Munroe, and DiMaggio. <br /><br />Einstein is wracked by guilt over Hiroshima yet fancies the simplicity of a sexual liaison with Munro; Munro is sick of being seen as a bimbo and craves intellectual credence; Senator McCarthy is at the height of his witch-hunting powers but is an impotent sleazebag; DiMaggio is insecure about his celebrity, self-obsessed, and prone to violence. Each of them contains the seeds of their own destruction. Each character has a troubled, abused/abusive past and a questionable future. Gradually, we see that obsession itself is the central theme. America\\'s obsession with its postwar cultural icons and mores; the obsessions of the protagonists for something none can have: peace-of-mind and/or happiness.<br /><br />Compared with the theory of relativity, a proposed unified-field theory and, indeed, the cosmos itself, all the aspirations and interactions of Roeg\\'s protagonists seem insignificant. Yet these aspects of the physical universe (it\\'s all quantum, trust me!) affect us when they are applied to the development of the means to destroy us. Monroe\\'s mention of the principle behind the neutron-bomb (without naming it as such) is not an anachronism per se, but can only be understood by a contemporary audience. Indeed, ALL the references within the script are only accessible to a knowledgeable viewer: one au fait with \\'50s occurrences/personality cults and how they affect us in the 21st century.<br /><br />This film and its screenplay are either very, very clever, or extremely opaque and pretentious. Ultimately, however, probably insignificant.<br /><br />live long and prosper :) <br /><br />'], 'label': [0, 0, 0, 1, 1]}\n"
          ]
        }
      ]
    },
    {
      "cell_type": "markdown",
      "source": [
        "### #문제 006\n",
        "\n",
        "문제 004와 005에서 추출한 학습 데이터(800개), 검증 데이터(200개), 테스트 데이터(1,000개)를 사전학습된 distilbert-base-uncased 모델에 투입하기 위해, 토크나이저를 사용해 인코딩하세요.\n",
        "\n",
        "> 토크나이징, 인코딩은 텍스트를 기계가 이해할 수 있는 형태로 변환하는 과정입니다. 토큰은 텍스트의 의미 있는 가장 작은 단위로, 보통 단어나 부분 단어를 의미합니다. 토크나이징은 텍스트를 이러한 토큰들로 나누는 과정입니다. 예를 들어, \"I love NLP\"라는 문장은 \"I\", \"love\", \"NLP\"라는 토큰으로 나눌 수 있습니다.\n",
        "\n",
        "> 인코딩은 나눈 토큰들을 숫자로 변환하는 과정입니다. 각 토큰에는 사전에 정의된 어휘 사전(vocabulary)에 따라 고유한 숫자(ID)가 할당됩니다. 예를 들어, \"I\"는 1021, \"love\"는 2293, \"NLP\"는 11234로 변환될 수 있습니다. 이렇게 변환된 숫자 시퀀스를 `input_ids`라고 부르며, 이는 [1021, 2293, 11234]와 같은 형태를 가집니다. 이렇게 변환된 숫자 형태의 데이터는 기계학습 모델이 처리하기에 적합한 형태가 됩니다."
      ],
      "metadata": {
        "id": "ch4n8Awj2tS0"
      }
    },
    {
      "cell_type": "markdown",
      "source": [
        "💡 HINT\n",
        "\n",
        "1. Hugging Face의 DistilBertTokenizerFast 사용하여 ['distilbert-base-uncased'](https://huggingface.co/distilbert/distilbert-base-uncased) 토크나이저를 불러오세요.\n",
        "  ```python\n",
        "    from transformers import DistilBertTokenizerFast\n",
        "    tokenizer = DistilBertTokenizerFast.from_pretrained(\"불러올 토크나이저 이름을 입력하세요.\")\n",
        "  ```\n",
        "\n",
        "2. 다음의 파라미터를 사용하여 데이터를 토크나이징해보세요. 토크나이저의 [`__call__` 메소드](https://huggingface.co/docs/transformers/main_classes/tokenizer#transformers.PreTrainedTokenizer.__call__)를 직접 사용하여 텍스트를 토크나이징할 수 있어요.\n",
        "  - `padding=True`: 모든 시퀀스의 길이를 동일하게 맞춥니다.\n",
        "  - `truncation=True`: 최대 길이를 초과하는 시퀀스를 잘라냅니다.\n",
        "  - `max_length=512`: 최대 시퀀스 길이를 512로 설정합니다.\n",
        "  - `return_tensors=\"pt\"`: PyTorch 텐서 형태로 결과를 반환합니다.\n"
      ],
      "metadata": {
        "id": "5CAiay9RAiiS"
      }
    },
    {
      "cell_type": "code",
      "source": [
        "# DistilBERT Fast 토크나이저 로드\n",
        "from transformers import DistilBertTokenizerFast\n",
        "tokenizer = DistilBertTokenizerFast.from_pretrained(\"distilbert-base-uncased\")"
      ],
      "metadata": {
        "id": "9Zxm0_gC8zLd",
        "colab": {
          "base_uri": "https://localhost:8080/",
          "height": 145,
          "referenced_widgets": [
            "5316a88061b149d3b24ec04fd782ef6a",
            "24087760c8f44221865b0464624ad5ad",
            "569c40df138844579cfe8f230f17b807",
            "f21dd22be33a468b877dda5bc30463d0",
            "a6075197e52b4559962d50cac4e81852",
            "5a4bce8e6ab6470abe5cdaea0dd45693",
            "4d6b3f021c3e4737a462f78ba0a93507",
            "cf7b6cd485ca4fb69048777bdcd1e501",
            "1a4f26d1086b471b891ef0ef0aa505b4",
            "e6ebd4e4144c47cb86a85af6f24e5e4f",
            "abce5f57ec8b4813ac73b501cf20c998",
            "fc97328ef0274a219a4d98e8624bfba8",
            "1340b8c1a2ae4c1e9c27b30f7031b918",
            "6af697af58a34f06ab24636b4b630236",
            "3524eded30464d739d37d2bd9ca398fb",
            "b5e4fa5869424606a66497f2088f7b45",
            "d5f6932b6d654f068c31948ad69b9c02",
            "1a64213a67bb46828dbcfcbcd4e4cce9",
            "ec6dad29c3e444a49f28d3d032ac8fe3",
            "c90c37b06ab243cdb8a2aadec260596f",
            "ba7becb9630c44cf9415b3ad052a4e34",
            "b5d9870f883047298ac2b8e3f272cc17",
            "cc8e21cb17d34e9d8a6ab823dd48ba1d",
            "3aebe43850dd494eb4b7e4de1f5a106d",
            "dcb4839e106949679e3f28fcaa4afe68",
            "c39b5a837d3d440bafbc6b133434e9a4",
            "a1d57e2de50f4c8ba505c812585f3c27",
            "e3cb6e53bf094c44986218479160372a",
            "46e0b4fa6940481fadb13c173e9d1558",
            "d41bf5b006544794912b5b219ba6b9df",
            "ab2c4526974c457bb7d7aba4b14374da",
            "5f9b34d88b0749bb929082d39b69287d",
            "fb57616cb95549d7ab9fcbea7214e359",
            "f4140927a9824f1487c7a890611b7129",
            "8fdc2f3bd43e43288fb6b22732af9e74",
            "0233cc56bbda439ab26d9dcfd1b64f0d",
            "318d90bac0fb4a2d95ccb0f38047fe39",
            "b868fd3d16ca4ca89c1807827ea19361",
            "59165e9d55f0488597b393a7fe9fc4b6",
            "de7d958eae9349e69c3d0e50968eaca8",
            "1e05755b15a04c76aa7ec17a2b1420be",
            "b72c6b43e7324c3fbe29fc456007be9c",
            "280684270af44be2aaad7f342def58b2",
            "cd40f1ca90ec4beb85d555dac561f1eb"
          ]
        },
        "outputId": "a9cc5643-6584-4f33-8dba-bdad3c7462ae"
      },
      "execution_count": 29,
      "outputs": [
        {
          "output_type": "display_data",
          "data": {
            "text/plain": [
              "tokenizer_config.json:   0%|          | 0.00/48.0 [00:00<?, ?B/s]"
            ],
            "application/vnd.jupyter.widget-view+json": {
              "version_major": 2,
              "version_minor": 0,
              "model_id": "5316a88061b149d3b24ec04fd782ef6a"
            }
          },
          "metadata": {}
        },
        {
          "output_type": "display_data",
          "data": {
            "text/plain": [
              "vocab.txt:   0%|          | 0.00/232k [00:00<?, ?B/s]"
            ],
            "application/vnd.jupyter.widget-view+json": {
              "version_major": 2,
              "version_minor": 0,
              "model_id": "fc97328ef0274a219a4d98e8624bfba8"
            }
          },
          "metadata": {}
        },
        {
          "output_type": "display_data",
          "data": {
            "text/plain": [
              "tokenizer.json:   0%|          | 0.00/466k [00:00<?, ?B/s]"
            ],
            "application/vnd.jupyter.widget-view+json": {
              "version_major": 2,
              "version_minor": 0,
              "model_id": "cc8e21cb17d34e9d8a6ab823dd48ba1d"
            }
          },
          "metadata": {}
        },
        {
          "output_type": "display_data",
          "data": {
            "text/plain": [
              "config.json:   0%|          | 0.00/483 [00:00<?, ?B/s]"
            ],
            "application/vnd.jupyter.widget-view+json": {
              "version_major": 2,
              "version_minor": 0,
              "model_id": "f4140927a9824f1487c7a890611b7129"
            }
          },
          "metadata": {}
        }
      ]
    },
    {
      "cell_type": "code",
      "source": [
        "# 데이터 토크나이징하기\n",
        "tokenized_train = tokenizer(train_dataset['text'], padding=True,\n",
        "    truncation=True, max_length=512, return_tensors=\"pt\")\n",
        "\n",
        "tokenized_val = tokenizer(valid_dataset['text'], padding=True,\n",
        "    truncation=True, max_length=512, return_tensors=\"pt\"\n",
        "    )\n",
        "tokenized_test = tokenizer(test_dataset['text'], padding=True,\n",
        "    truncation=True, max_length=512, return_tensors=\"pt\")"
      ],
      "metadata": {
        "id": "3UQAP2lOEoYW"
      },
      "execution_count": 30,
      "outputs": []
    },
    {
      "cell_type": "code",
      "source": [
        "# 결과 확인\n",
        "print(\"학습 데이터 인풋 크기:\", len(tokenized_train['input_ids']))\n",
        "print(\"검증 데이터 인풋 크기:\", len(tokenized_val['input_ids']))\n",
        "print(\"테스트 데이터 인풋 크기:\", len(tokenized_test['input_ids']))\n",
        "\n",
        "# 0번째 텍스트의 5번째 토큰까지의 input_ids 출력\n",
        "print(\"\\n토크나이징된 학습 데이터 샘플:\", tokenized_train['input_ids'][0][:5])\n",
        "\n",
        "# 위의 결과를 디코딩하여 출력\n",
        "print(\"\\n   디코딩된 학습 데이터 샘플:\", tokenizer.decode(tokenized_train['input_ids'][0][:5]))"
      ],
      "metadata": {
        "id": "B9zLYzzPF0qB",
        "colab": {
          "base_uri": "https://localhost:8080/"
        },
        "outputId": "3d05d6c2-58bf-4a0f-88e0-39258dd268d4"
      },
      "execution_count": 31,
      "outputs": [
        {
          "output_type": "stream",
          "name": "stdout",
          "text": [
            "학습 데이터 인풋 크기: 800\n",
            "검증 데이터 인풋 크기: 200\n",
            "테스트 데이터 인풋 크기: 1000\n",
            "\n",
            "토크나이징된 학습 데이터 샘플: tensor([  101, 10468,  1010,  2202,  1996])\n",
            "\n",
            "   디코딩된 학습 데이터 샘플: [CLS] basically, take the\n"
          ]
        }
      ]
    },
    {
      "cell_type": "markdown",
      "source": [
        "지금까지 정말 수고 많으셨습니다 🤗 지난 주 보다는 조금 어려웠는데 잘 따라오셨나요?\n",
        "\n",
        "이전에 작성한 코드를 바탕으로 Dataset을 상속하는 IMDbDataset 클래스를 만들어 볼게요. 이 클래스는 IMDB 데이터셋을 효율적으로 처리하고, 다음 주에 진행할 언어 모델 파인튜닝에 사용될 거예요."
      ],
      "metadata": {
        "id": "yqmsuxIMI_MD"
      }
    },
    {
      "cell_type": "code",
      "source": [
        "import torch\n",
        "from datasets import Dataset\n",
        "\n",
        "class IMDbDataset(Dataset):\n",
        "    def __init__(self, tokenized_data, labels):\n",
        "        self.input_ids = tokenized_data['input_ids'].clone().detach()\n",
        "        self.attention_mask = tokenized_data['attention_mask'].clone().detach()\n",
        "        self.labels = torch.tensor(labels)\n",
        "\n",
        "    def __len__(self):\n",
        "        return len(self.input_ids)\n",
        "\n",
        "    def __getitem__(self, idx):\n",
        "        return {\n",
        "            'input_ids': self.input_ids[idx],\n",
        "            'attention_mask': self.attention_mask[idx],\n",
        "            'labels': self.labels[idx]\n",
        "        }\n",
        "\n",
        "# 원본 데이터셋에서 labels 추출\n",
        "train_labels = train_dataset['label']\n",
        "val_labels = valid_dataset['label']\n",
        "test_labels = test_dataset['label']\n",
        "\n",
        "# 클래스 인스턴스화\n",
        "train_dataset = IMDbDataset(tokenized_train, train_labels)\n",
        "val_dataset = IMDbDataset(tokenized_val, val_labels)\n",
        "test_dataset = IMDbDataset(tokenized_test, test_labels)\n",
        "\n",
        "# 결과 확인\n",
        "print(\"학습 데이터 크기:\", len(train_dataset))\n",
        "print(\"검증 데이터 크기:\", len(val_dataset))\n",
        "print(\"테스트 데이터 크기:\", len(test_dataset))\n",
        "\n",
        "# 데이터 샘플 확인\n",
        "print(\"\\n학습 데이터 샘플:\")\n",
        "sample = train_dataset[0]\n",
        "print(\"Input IDs:\", sample['input_ids'][:10], \"...\")  # 처음 10개 토큰만 출력\n",
        "print(\"Attention Mask:\", sample['attention_mask'][:10], \"...\")\n",
        "print(\"Label:\", sample['labels'])"
      ],
      "metadata": {
        "id": "rB_h9Q8qKjlr",
        "colab": {
          "base_uri": "https://localhost:8080/"
        },
        "outputId": "20ae993e-ee77-4061-8b2d-b7ccd2dfdf3d"
      },
      "execution_count": 32,
      "outputs": [
        {
          "output_type": "stream",
          "name": "stdout",
          "text": [
            "학습 데이터 크기: 800\n",
            "검증 데이터 크기: 200\n",
            "테스트 데이터 크기: 1000\n",
            "\n",
            "학습 데이터 샘플:\n",
            "Input IDs: tensor([  101, 10468,  1010,  2202,  1996,  4145,  1997,  2296,  4004,  5469]) ...\n",
            "Attention Mask: tensor([1, 1, 1, 1, 1, 1, 1, 1, 1, 1]) ...\n",
            "Label: tensor(0)\n"
          ]
        }
      ]
    },
    {
      "cell_type": "markdown",
      "source": [
        "> 📝 위 코드를 이해하기 위한 개념들을 아래에다 정리해보았어요.\n",
        "- `텐서(Tensor)`\n",
        "  - 숫자 데이터를 담는 다차원 배열입니다.\n",
        "  - 머신러닝과 딥러닝에서 데이터를 표현하는 기본 단위입니다.\n",
        "  - NumPy의 배열과 유사하지만, GPU에서 빠른 연산이 가능합니다.\n",
        "  - PyTorch에서는 torch.tensor()로 생성합니다.\n",
        "- `input_ids`\n",
        "  - 텍스트를 숫자로 변환한 결과입니다.\n",
        "  - 각 단어나 부분 단어(서브워드)가 고유한 정수 ID로 표현됩니다.\n",
        "  - 예: \"I love NLP\" → [101, 1045, 2293, 19204, 102]\n",
        "  - 101과 102는 각각 문장의 시작과 끝을 나타내는 특수 토큰입니다.\n",
        "- `attention_mask`\n",
        "  - 실제 입력 데이터와 패딩을 구분하는 이진 마스크입니다.\n",
        "  - 1은 실제 토큰을, 0은 패딩 토큰을 나타냅니다.\n",
        "  - 모델이 패딩된 부분을 무시하고 실제 입력에만 주목하게 합니다.\n",
        "  - 예: [1, 1, 1, 1, 1, 0, 0] (5개의 실제 토큰, 2개의 패딩)\n",
        "- `labels`\n",
        "  - 각 텍스트 샘플의 분류 결과를 나타내는 숫자입니다.\n",
        "  - 이진 분류의 경우, 보통 0과 1로 표현합니다.\n",
        "  - IMDB 데이터셋의 경우: 0은 부정적 리뷰, 1은 긍정적 리뷰\n",
        "  - 다중 분류 작업에서는 클래스 수만큼의 고유한 정수를 사용합니다."
      ],
      "metadata": {
        "id": "4AJEwo4FLDP8"
      }
    }
  ]
}